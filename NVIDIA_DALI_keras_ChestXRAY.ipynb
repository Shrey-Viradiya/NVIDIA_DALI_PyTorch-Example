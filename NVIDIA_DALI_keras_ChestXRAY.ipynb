{
  "nbformat": 4,
  "nbformat_minor": 0,
  "metadata": {
    "colab": {
      "name": "NVIDIA_DALI_keras_ChestXRAY.ipynb",
      "provenance": [],
      "collapsed_sections": [],
      "include_colab_link": true
    },
    "kernelspec": {
      "name": "python3",
      "display_name": "Python 3"
    },
    "accelerator": "GPU"
  },
  "cells": [
    {
      "cell_type": "markdown",
      "metadata": {
        "id": "view-in-github",
        "colab_type": "text"
      },
      "source": [
        "<a href=\"https://colab.research.google.com/github/Shrey-Viradiya/NVIDIA_DALI_PyTorch_keras_tensorflow-Example/blob/main/NVIDIA_DALI_keras_ChestXRAY.ipynb\" target=\"_parent\"><img src=\"https://colab.research.google.com/assets/colab-badge.svg\" alt=\"Open In Colab\"/></a>"
      ]
    },
    {
      "cell_type": "code",
      "metadata": {
        "colab": {
          "base_uri": "https://localhost:8080/"
        },
        "id": "rqzBEQFTM8W7",
        "outputId": "66281f87-2185-4a28-b816-65ec94e438f1"
      },
      "source": [
        "!nvidia-smi"
      ],
      "execution_count": 1,
      "outputs": [
        {
          "output_type": "stream",
          "text": [
            "Sun Feb 28 06:52:11 2021       \n",
            "+-----------------------------------------------------------------------------+\n",
            "| NVIDIA-SMI 460.39       Driver Version: 460.32.03    CUDA Version: 11.2     |\n",
            "|-------------------------------+----------------------+----------------------+\n",
            "| GPU  Name        Persistence-M| Bus-Id        Disp.A | Volatile Uncorr. ECC |\n",
            "| Fan  Temp  Perf  Pwr:Usage/Cap|         Memory-Usage | GPU-Util  Compute M. |\n",
            "|                               |                      |               MIG M. |\n",
            "|===============================+======================+======================|\n",
            "|   0  Tesla T4            Off  | 00000000:00:04.0 Off |                    0 |\n",
            "| N/A   53C    P8     9W /  70W |      0MiB / 15109MiB |      0%      Default |\n",
            "|                               |                      |                  N/A |\n",
            "+-------------------------------+----------------------+----------------------+\n",
            "                                                                               \n",
            "+-----------------------------------------------------------------------------+\n",
            "| Processes:                                                                  |\n",
            "|  GPU   GI   CI        PID   Type   Process name                  GPU Memory |\n",
            "|        ID   ID                                                   Usage      |\n",
            "|=============================================================================|\n",
            "|  No running processes found                                                 |\n",
            "+-----------------------------------------------------------------------------+\n"
          ],
          "name": "stdout"
        }
      ]
    },
    {
      "cell_type": "code",
      "metadata": {
        "colab": {
          "base_uri": "https://localhost:8080/"
        },
        "id": "dYyAMpdh6Suv",
        "outputId": "e14f5f81-358c-4472-d0b3-a2490d7a8ca5"
      },
      "source": [
        "!mkdir -p ~/.kaggle\r\n",
        "!cp kaggle.json ~/.kaggle/\r\n",
        "!ls ~/.kaggle\r\n",
        "!chmod 600 /root/.kaggle/kaggle.json"
      ],
      "execution_count": 2,
      "outputs": [
        {
          "output_type": "stream",
          "text": [
            "kaggle.json\n"
          ],
          "name": "stdout"
        }
      ]
    },
    {
      "cell_type": "code",
      "metadata": {
        "colab": {
          "base_uri": "https://localhost:8080/"
        },
        "id": "ubGsbBSCT8IE",
        "outputId": "2e088ef6-4855-45dc-bdce-9d2f1bb0e891"
      },
      "source": [
        "!pip install --extra-index-url https://developer.download.nvidia.com/compute/redist nvidia-dali-cuda100\r\n",
        "!pip install --extra-index-url https://developer.download.nvidia.com/compute/redist nvidia-dali-tf-plugin-cuda100"
      ],
      "execution_count": 3,
      "outputs": [
        {
          "output_type": "stream",
          "text": [
            "Looking in indexes: https://pypi.org/simple, https://developer.download.nvidia.com/compute/redist\n",
            "Collecting nvidia-dali-cuda100\n",
            "\u001b[?25l  Downloading https://developer.download.nvidia.com/compute/redist/nvidia-dali-cuda100/nvidia_dali_cuda100-0.31.0-2055431-py3-none-manylinux2014_x86_64.whl (389.8MB)\n",
            "\u001b[K     |████████████████████████████████| 389.9MB 45kB/s \n",
            "\u001b[?25hInstalling collected packages: nvidia-dali-cuda100\n",
            "Successfully installed nvidia-dali-cuda100-0.31.0\n",
            "Looking in indexes: https://pypi.org/simple, https://developer.download.nvidia.com/compute/redist\n",
            "Collecting nvidia-dali-tf-plugin-cuda100\n",
            "\u001b[?25l  Downloading https://developer.download.nvidia.com/compute/redist/nvidia-dali-tf-plugin-cuda100/nvidia-dali-tf-plugin-cuda100-0.31.0.tar.gz (310kB)\n",
            "\u001b[K     |████████████████████████████████| 317kB 8.4MB/s \n",
            "\u001b[?25hRequirement already satisfied: nvidia-dali-cuda100==0.31.0 in /usr/local/lib/python3.7/dist-packages (from nvidia-dali-tf-plugin-cuda100) (0.31.0)\n",
            "Building wheels for collected packages: nvidia-dali-tf-plugin-cuda100\n",
            "  Building wheel for nvidia-dali-tf-plugin-cuda100 (setup.py) ... \u001b[?25l\u001b[?25hdone\n",
            "  Created wheel for nvidia-dali-tf-plugin-cuda100: filename=nvidia_dali_tf_plugin_cuda100-0.31.0-cp37-cp37m-linux_x86_64.whl size=99370 sha256=0864a2b3e1634dd9491a4b599605c89fd0cd00520c62dec2500aa789e4738994\n",
            "  Stored in directory: /root/.cache/pip/wheels/1a/ed/d9/b7adce71d3ed71de92958a4b1a30a7bfe5cd2003e21be04214\n",
            "Successfully built nvidia-dali-tf-plugin-cuda100\n",
            "Installing collected packages: nvidia-dali-tf-plugin-cuda100\n",
            "Successfully installed nvidia-dali-tf-plugin-cuda100-0.31.0\n"
          ],
          "name": "stdout"
        }
      ]
    },
    {
      "cell_type": "code",
      "metadata": {
        "id": "88sJENyNs6_x"
      },
      "source": [
        "import tensorflow as tf\r\n",
        "# from tensorflow.keras.datasets import cifar10\r\n",
        "from tensorflow.keras.applications.resnet50 import ResNet50, preprocess_input\r\n",
        "from tensorflow.keras.preprocessing import image_dataset_from_directory\r\n",
        "\r\n",
        "import os\r\n",
        "import scipy as sp\r\n",
        "import matplotlib.pyplot as plt\r\n",
        "import sklearn.metrics\r\n",
        "from PIL import Image\r\n",
        "import shutil\r\n",
        "\r\n",
        "from nvidia.dali.pipeline import Pipeline\r\n",
        "import nvidia.dali.ops as ops\r\n",
        "import nvidia.dali.types as types\r\n",
        "\r\n",
        "import nvidia.dali.plugin.tf as dali_tf\r\n",
        "import tensorflow as tf\r\n",
        "import tensorflow.compat.v1 as tf_v1\r\n",
        "import logging"
      ],
      "execution_count": 4,
      "outputs": []
    },
    {
      "cell_type": "code",
      "metadata": {
        "colab": {
          "base_uri": "https://localhost:8080/"
        },
        "id": "iSorw7fO6bTP",
        "outputId": "2535430e-6a2a-458f-940f-e50f1ffaba99"
      },
      "source": [
        "! kaggle datasets download -d tolgadincer/labeled-chest-xray-images"
      ],
      "execution_count": 5,
      "outputs": [
        {
          "output_type": "stream",
          "text": [
            "Downloading labeled-chest-xray-images.zip to /content\n",
            " 99% 1.16G/1.17G [00:13<00:00, 117MB/s]\n",
            "100% 1.17G/1.17G [00:13<00:00, 90.2MB/s]\n"
          ],
          "name": "stdout"
        }
      ]
    },
    {
      "cell_type": "code",
      "metadata": {
        "id": "K1xDba0-7FpI"
      },
      "source": [
        "! unzip -qq -n labeled-chest-xray-images.zip"
      ],
      "execution_count": 6,
      "outputs": []
    },
    {
      "cell_type": "code",
      "metadata": {
        "id": "S_weg_pPVyuM"
      },
      "source": [
        "sets = os.listdir(\"/content/chest_xray\")"
      ],
      "execution_count": 7,
      "outputs": []
    },
    {
      "cell_type": "code",
      "metadata": {
        "id": "s2iJONWLpxnI"
      },
      "source": [
        "train_directory = '/content/chest_xray/train'\r\n",
        "valid_directory = '/content/chest_xray/test'"
      ],
      "execution_count": 8,
      "outputs": []
    },
    {
      "cell_type": "code",
      "metadata": {
        "colab": {
          "base_uri": "https://localhost:8080/"
        },
        "id": "5bCVKxPeyXhC",
        "outputId": "925244a9-e38f-4522-dfa6-ff46a8d75924"
      },
      "source": [
        "!find '/content/chest_xray/train' -type f -print | wc -l\r\n",
        "!find '/content/chest_xray/test' -type f -print | wc -l"
      ],
      "execution_count": 9,
      "outputs": [
        {
          "output_type": "stream",
          "text": [
            "5232\n",
            "624\n"
          ],
          "name": "stdout"
        }
      ]
    },
    {
      "cell_type": "code",
      "metadata": {
        "id": "bSKfTeSfMPCf"
      },
      "source": [
        "class Data_Pipeline(Pipeline):\r\n",
        "    def __init__(self, batch_size, device, data_path, device_id=0, num_threads=4, seed=0):\r\n",
        "        super(Data_Pipeline, self).__init__(\r\n",
        "            batch_size, num_threads, device_id, seed)\r\n",
        "        self.device = device\r\n",
        "        self.reader = ops.FileReader(file_root =data_path, random_shuffle=True)\r\n",
        "        self.decode = ops.ImageDecoder(\r\n",
        "            device='mixed' if device == 'gpu' else 'cpu',\r\n",
        "            output_type=types.RGB)\r\n",
        "        self.cmn = ops.CropMirrorNormalize(\r\n",
        "            device=device,\r\n",
        "            dtype=types.FLOAT,\r\n",
        "            std=[255.],\r\n",
        "            output_layout=\"HWC\")\r\n",
        "        self.rotate = ops.Rotate(device = \"gpu\")\r\n",
        "        self.rng = ops.random.Uniform(range = (-10.0, 10.0))\r\n",
        "        self.coin = ops.random.CoinFlip(probability = 0.5)\r\n",
        "        self.flip = ops.Flip(device = \"gpu\")\r\n",
        "        self.res = ops.Resize(device=\"gpu\", resize_x=224, resize_y=224, interp_type=types.INTERP_TRIANGULAR)\r\n",
        "\r\n",
        "    def define_graph(self):\r\n",
        "        inputs, labels = self.reader(name=\"Reader\")\r\n",
        "        images = self.decode(inputs)\r\n",
        "        if self.device == 'gpu':\r\n",
        "            labels = labels.gpu()\r\n",
        "        images = self.cmn(images)\r\n",
        "        angle = self.rng()\r\n",
        "        images = self.rotate(images, angle=angle)\r\n",
        "        images = self.flip(images, horizontal = self.coin(), vertical = self.coin())\r\n",
        "        images = self.res(images)\r\n",
        "        return (images, labels)"
      ],
      "execution_count": 10,
      "outputs": []
    },
    {
      "cell_type": "code",
      "metadata": {
        "id": "pGckAFI2n-VX"
      },
      "source": [
        "BATCH_SIZE = 4\r\n",
        "DROPOUT = 0.2\r\n",
        "IMAGE_SIZE = 224\r\n",
        "NUM_CLASSES = 20\r\n",
        "HIDDEN_SIZE = 512\r\n",
        "EPOCHS = 5\r\n",
        "DATA_SIZE = 5232\r\n",
        "VALIDATION_SIZE = 624\r\n",
        "ITERATIONS_PER_EPOCH = DATA_SIZE // BATCH_SIZE\r\n",
        "VALIDATION_STEPS = VALIDATION_SIZE // BATCH_SIZE\r\n",
        "\r\n",
        "shapes = (\r\n",
        "    (BATCH_SIZE, IMAGE_SIZE, IMAGE_SIZE, 3),\r\n",
        "    (BATCH_SIZE))\r\n",
        "dtypes = (\r\n",
        "    tf.float32,\r\n",
        "    tf.int32)"
      ],
      "execution_count": 11,
      "outputs": []
    },
    {
      "cell_type": "code",
      "metadata": {
        "id": "_3nD-C1uoHAL"
      },
      "source": [
        "Pipeline_train = Data_Pipeline(BATCH_SIZE, device='gpu', data_path = train_directory, device_id=0)\r\n",
        "Pipeline_valid = Data_Pipeline(BATCH_SIZE, device='gpu', data_path = valid_directory, device_id=0)"
      ],
      "execution_count": 12,
      "outputs": []
    },
    {
      "cell_type": "code",
      "metadata": {
        "colab": {
          "base_uri": "https://localhost:8080/"
        },
        "id": "KCvIy7tvoKXX",
        "outputId": "e0858562-802b-472a-ead8-08a2d9a32e9d"
      },
      "source": [
        "with tf.device('/gpu:0'):\r\n",
        "    data_set = dali_tf.DALIDataset(\r\n",
        "        pipeline=Pipeline_train,\r\n",
        "        batch_size=BATCH_SIZE,\r\n",
        "        output_shapes=shapes,\r\n",
        "        output_dtypes=dtypes,\r\n",
        "        device_id=0)\r\n",
        "    \r\n",
        "    valid_data_set = dali_tf.DALIDataset(\r\n",
        "        pipeline=Pipeline_valid,\r\n",
        "        batch_size=BATCH_SIZE,\r\n",
        "        output_shapes=shapes,\r\n",
        "        output_dtypes=dtypes,\r\n",
        "        device_id=0)\r\n",
        "    \r\n",
        "    resnet_model = ResNet50(weights = 'imagenet', include_top=False, input_shape = (224,224,3))\r\n",
        "\r\n",
        "    for layer in resnet_model.layers:\r\n",
        "        layer.trainable = False\r\n",
        "    \r\n",
        "    model = tf.keras.models.Sequential([\r\n",
        "                                    resnet_model,\r\n",
        "                                    tf.keras.layers.GlobalMaxPooling2D(),\r\n",
        "                                    tf.keras.layers.Dense(HIDDEN_SIZE, activation='relu'),\r\n",
        "                                    tf.keras.layers.Dropout(DROPOUT),\r\n",
        "                                    tf.keras.layers.Dense(NUM_CLASSES, activation=\"softmax\")\r\n",
        "    ])\r\n",
        "    model.compile(\r\n",
        "        optimizer='adam',\r\n",
        "        loss='sparse_categorical_crossentropy',\r\n",
        "        metrics=['accuracy'])"
      ],
      "execution_count": 13,
      "outputs": [
        {
          "output_type": "stream",
          "text": [
            "Downloading data from https://storage.googleapis.com/tensorflow/keras-applications/resnet/resnet50_weights_tf_dim_ordering_tf_kernels_notop.h5\n",
            "94773248/94765736 [==============================] - 0s 0us/step\n"
          ],
          "name": "stdout"
        }
      ]
    },
    {
      "cell_type": "code",
      "metadata": {
        "colab": {
          "base_uri": "https://localhost:8080/"
        },
        "id": "MqzHxWAlz1d6",
        "outputId": "57eb778b-7ea2-43a3-b057-fbba1ae37b11"
      },
      "source": [
        "model.summary()"
      ],
      "execution_count": 14,
      "outputs": [
        {
          "output_type": "stream",
          "text": [
            "Model: \"sequential\"\n",
            "_________________________________________________________________\n",
            "Layer (type)                 Output Shape              Param #   \n",
            "=================================================================\n",
            "resnet50 (Functional)        (None, 7, 7, 2048)        23587712  \n",
            "_________________________________________________________________\n",
            "global_max_pooling2d (Global (None, 2048)              0         \n",
            "_________________________________________________________________\n",
            "dense (Dense)                (None, 512)               1049088   \n",
            "_________________________________________________________________\n",
            "dropout (Dropout)            (None, 512)               0         \n",
            "_________________________________________________________________\n",
            "dense_1 (Dense)              (None, 20)                10260     \n",
            "=================================================================\n",
            "Total params: 24,647,060\n",
            "Trainable params: 1,059,348\n",
            "Non-trainable params: 23,587,712\n",
            "_________________________________________________________________\n"
          ],
          "name": "stdout"
        }
      ]
    },
    {
      "cell_type": "code",
      "metadata": {
        "colab": {
          "base_uri": "https://localhost:8080/"
        },
        "id": "UENk4BDkyEgI",
        "outputId": "9093ace6-fc79-4b1f-ac91-4d4a348d5de9"
      },
      "source": [
        "with tf.device('/gpu:0'):\r\n",
        "    model.fit(data_set, epochs=EPOCHS, steps_per_epoch=ITERATIONS_PER_EPOCH,  validation_data = valid_data_set, validation_steps=VALIDATION_STEPS)"
      ],
      "execution_count": 15,
      "outputs": [
        {
          "output_type": "stream",
          "text": [
            "Epoch 1/5\n",
            "1308/1308 [==============================] - 41s 24ms/step - loss: 0.7628 - accuracy: 0.7364 - val_loss: 0.4890 - val_accuracy: 0.7388\n",
            "Epoch 2/5\n",
            "1308/1308 [==============================] - 31s 24ms/step - loss: 0.4192 - accuracy: 0.7972 - val_loss: 0.5999 - val_accuracy: 0.6923\n",
            "Epoch 3/5\n",
            "1308/1308 [==============================] - 32s 24ms/step - loss: 0.3818 - accuracy: 0.8221 - val_loss: 0.5312 - val_accuracy: 0.7131\n",
            "Epoch 4/5\n",
            "1308/1308 [==============================] - 32s 24ms/step - loss: 0.3667 - accuracy: 0.8228 - val_loss: 0.3836 - val_accuracy: 0.8253\n",
            "Epoch 5/5\n",
            "1308/1308 [==============================] - 32s 24ms/step - loss: 0.3652 - accuracy: 0.8299 - val_loss: 0.4535 - val_accuracy: 0.7692\n"
          ],
          "name": "stdout"
        }
      ]
    },
    {
      "cell_type": "code",
      "metadata": {
        "colab": {
          "base_uri": "https://localhost:8080/"
        },
        "id": "5nc3v_QLzuQu",
        "outputId": "cd1fce01-3877-42cc-e8b3-d61c7e77888f"
      },
      "source": [
        "train_dataset = image_dataset_from_directory(train_directory,\r\n",
        "                                             shuffle=True,\r\n",
        "                                             labels=\"inferred\",\r\n",
        "                                             batch_size=BATCH_SIZE,\r\n",
        "                                             image_size=(IMAGE_SIZE, IMAGE_SIZE))\r\n",
        "\r\n",
        "valid_dataset = image_dataset_from_directory(valid_directory,\r\n",
        "                                             shuffle=True,\r\n",
        "                                             labels=\"inferred\",\r\n",
        "                                             batch_size=BATCH_SIZE,\r\n",
        "                                             image_size=(IMAGE_SIZE, IMAGE_SIZE))\r\n",
        "\r\n",
        "AUTOTUNE = tf.data.AUTOTUNE\r\n",
        "\r\n",
        "train_dataset = train_dataset.prefetch(buffer_size=AUTOTUNE)\r\n",
        "valid_dataset = valid_dataset.prefetch(buffer_size=AUTOTUNE)\r\n",
        "\r\n",
        "data_augmentation = tf.keras.Sequential([\r\n",
        "  tf.keras.layers.experimental.preprocessing.Normalization(mean=0., variance=255.),\r\n",
        "  tf.keras.layers.experimental.preprocessing.RandomRotation((-10.0, 10.0)),\r\n",
        "  tf.keras.layers.experimental.preprocessing.RandomFlip(),\r\n",
        "  tf.keras.layers.experimental.preprocessing.Resizing(IMAGE_SIZE, IMAGE_SIZE),\r\n",
        "])"
      ],
      "execution_count": 16,
      "outputs": [
        {
          "output_type": "stream",
          "text": [
            "Found 5232 files belonging to 2 classes.\n",
            "Found 624 files belonging to 2 classes.\n"
          ],
          "name": "stdout"
        }
      ]
    },
    {
      "cell_type": "code",
      "metadata": {
        "colab": {
          "base_uri": "https://localhost:8080/"
        },
        "id": "CHDEWR2O1HsY",
        "outputId": "a9b60cf9-b2d1-4c82-f2a8-09a400c8fe53"
      },
      "source": [
        "with tf.device('/gpu:0'):\r\n",
        "    model.fit(train_dataset, epochs=EPOCHS, validation_data = valid_dataset)"
      ],
      "execution_count": 17,
      "outputs": [
        {
          "output_type": "stream",
          "text": [
            "Epoch 1/5\n",
            "1308/1308 [==============================] - 43s 32ms/step - loss: 1.0010 - accuracy: 0.9310 - val_loss: 0.3705 - val_accuracy: 0.8910\n",
            "Epoch 2/5\n",
            "1308/1308 [==============================] - 40s 31ms/step - loss: 0.1217 - accuracy: 0.9622 - val_loss: 0.3439 - val_accuracy: 0.8718\n",
            "Epoch 3/5\n",
            "1308/1308 [==============================] - 40s 31ms/step - loss: 0.0956 - accuracy: 0.9667 - val_loss: 0.3082 - val_accuracy: 0.9071\n",
            "Epoch 4/5\n",
            "1308/1308 [==============================] - 41s 31ms/step - loss: 0.0798 - accuracy: 0.9700 - val_loss: 0.2409 - val_accuracy: 0.9327\n",
            "Epoch 5/5\n",
            "1308/1308 [==============================] - 42s 32ms/step - loss: 0.0861 - accuracy: 0.9694 - val_loss: 0.3569 - val_accuracy: 0.8974\n"
          ],
          "name": "stdout"
        }
      ]
    }
  ]
}