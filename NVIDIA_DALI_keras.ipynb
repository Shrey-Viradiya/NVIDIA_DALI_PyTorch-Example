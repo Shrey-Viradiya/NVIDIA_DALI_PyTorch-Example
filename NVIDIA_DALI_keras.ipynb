{
  "nbformat": 4,
  "nbformat_minor": 0,
  "metadata": {
    "colab": {
      "name": "NVIDIA_DALI_keras.ipynb",
      "provenance": [],
      "collapsed_sections": [],
      "include_colab_link": true
    },
    "kernelspec": {
      "name": "python3",
      "display_name": "Python 3"
    },
    "accelerator": "GPU"
  },
  "cells": [
    {
      "cell_type": "markdown",
      "metadata": {
        "id": "view-in-github",
        "colab_type": "text"
      },
      "source": [
        "<a href=\"https://colab.research.google.com/github/Shrey-Viradiya/NVIDIA_DALI_PyTorch_keras_tensorflow-Example/blob/main/NVIDIA_DALI_keras.ipynb\" target=\"_parent\"><img src=\"https://colab.research.google.com/assets/colab-badge.svg\" alt=\"Open In Colab\"/></a>"
      ]
    },
    {
      "cell_type": "code",
      "metadata": {
        "colab": {
          "base_uri": "https://localhost:8080/"
        },
        "id": "rqzBEQFTM8W7",
        "outputId": "b31f06d3-a18c-4cac-8f36-9fff5a02fab0"
      },
      "source": [
        "!nvidia-smi"
      ],
      "execution_count": 1,
      "outputs": [
        {
          "output_type": "stream",
          "text": [
            "Sat Feb 27 19:08:46 2021       \n",
            "+-----------------------------------------------------------------------------+\n",
            "| NVIDIA-SMI 460.39       Driver Version: 460.32.03    CUDA Version: 11.2     |\n",
            "|-------------------------------+----------------------+----------------------+\n",
            "| GPU  Name        Persistence-M| Bus-Id        Disp.A | Volatile Uncorr. ECC |\n",
            "| Fan  Temp  Perf  Pwr:Usage/Cap|         Memory-Usage | GPU-Util  Compute M. |\n",
            "|                               |                      |               MIG M. |\n",
            "|===============================+======================+======================|\n",
            "|   0  Tesla T4            Off  | 00000000:00:04.0 Off |                    0 |\n",
            "| N/A   51C    P8     9W /  70W |      0MiB / 15109MiB |      0%      Default |\n",
            "|                               |                      |                  N/A |\n",
            "+-------------------------------+----------------------+----------------------+\n",
            "                                                                               \n",
            "+-----------------------------------------------------------------------------+\n",
            "| Processes:                                                                  |\n",
            "|  GPU   GI   CI        PID   Type   Process name                  GPU Memory |\n",
            "|        ID   ID                                                   Usage      |\n",
            "|=============================================================================|\n",
            "|  No running processes found                                                 |\n",
            "+-----------------------------------------------------------------------------+\n"
          ],
          "name": "stdout"
        }
      ]
    },
    {
      "cell_type": "code",
      "metadata": {
        "colab": {
          "base_uri": "https://localhost:8080/"
        },
        "id": "ubGsbBSCT8IE",
        "outputId": "ab6d76a2-0574-4e04-a2ba-4a00e61c8454"
      },
      "source": [
        "!pip install --extra-index-url https://developer.download.nvidia.com/compute/redist nvidia-dali-cuda100\r\n",
        "!pip install --extra-index-url https://developer.download.nvidia.com/compute/redist nvidia-dali-tf-plugin-cuda100"
      ],
      "execution_count": 2,
      "outputs": [
        {
          "output_type": "stream",
          "text": [
            "Looking in indexes: https://pypi.org/simple, https://developer.download.nvidia.com/compute/redist\n",
            "Collecting nvidia-dali-cuda100\n",
            "\u001b[?25l  Downloading https://developer.download.nvidia.com/compute/redist/nvidia-dali-cuda100/nvidia_dali_cuda100-0.31.0-2055431-py3-none-manylinux2014_x86_64.whl (389.8MB)\n",
            "\u001b[K     |████████████████████████████████| 389.9MB 21kB/s \n",
            "\u001b[?25hInstalling collected packages: nvidia-dali-cuda100\n",
            "Successfully installed nvidia-dali-cuda100-0.31.0\n",
            "Looking in indexes: https://pypi.org/simple, https://developer.download.nvidia.com/compute/redist\n",
            "Collecting nvidia-dali-tf-plugin-cuda100\n",
            "\u001b[?25l  Downloading https://developer.download.nvidia.com/compute/redist/nvidia-dali-tf-plugin-cuda100/nvidia-dali-tf-plugin-cuda100-0.31.0.tar.gz (310kB)\n",
            "\u001b[K     |████████████████████████████████| 317kB 7.8MB/s \n",
            "\u001b[?25hRequirement already satisfied: nvidia-dali-cuda100==0.31.0 in /usr/local/lib/python3.7/dist-packages (from nvidia-dali-tf-plugin-cuda100) (0.31.0)\n",
            "Building wheels for collected packages: nvidia-dali-tf-plugin-cuda100\n",
            "  Building wheel for nvidia-dali-tf-plugin-cuda100 (setup.py) ... \u001b[?25l\u001b[?25hdone\n",
            "  Created wheel for nvidia-dali-tf-plugin-cuda100: filename=nvidia_dali_tf_plugin_cuda100-0.31.0-cp37-cp37m-linux_x86_64.whl size=99370 sha256=3f888af871b09bc2e340f9c0c3a00e7163c5b3119ee9db9308fa4843f7695c4c\n",
            "  Stored in directory: /root/.cache/pip/wheels/1a/ed/d9/b7adce71d3ed71de92958a4b1a30a7bfe5cd2003e21be04214\n",
            "Successfully built nvidia-dali-tf-plugin-cuda100\n",
            "Installing collected packages: nvidia-dali-tf-plugin-cuda100\n",
            "Successfully installed nvidia-dali-tf-plugin-cuda100-0.31.0\n"
          ],
          "name": "stdout"
        }
      ]
    },
    {
      "cell_type": "markdown",
      "metadata": {
        "id": "9A4ELRAEtUtb"
      },
      "source": [
        "### Shrey Viradiya\r\n",
        "### 18BCE259"
      ]
    },
    {
      "cell_type": "code",
      "metadata": {
        "id": "88sJENyNs6_x"
      },
      "source": [
        "import tensorflow as tf\r\n",
        "from tensorflow.keras.datasets import cifar10\r\n",
        "from tensorflow.keras.applications.resnet50 import ResNet50, preprocess_input\r\n",
        "from tensorflow.keras.preprocessing import image_dataset_from_directory\r\n",
        "\r\n",
        "import os\r\n",
        "import scipy as sp\r\n",
        "import matplotlib.pyplot as plt\r\n",
        "import sklearn.metrics\r\n",
        "\r\n",
        "from nvidia.dali.pipeline import Pipeline\r\n",
        "import nvidia.dali.ops as ops\r\n",
        "import nvidia.dali.types as types\r\n",
        "\r\n",
        "import nvidia.dali.plugin.tf as dali_tf\r\n",
        "import tensorflow as tf\r\n",
        "import tensorflow.compat.v1 as tf_v1\r\n",
        "import logging"
      ],
      "execution_count": 3,
      "outputs": []
    },
    {
      "cell_type": "code",
      "metadata": {
        "id": "BgWRy3_BxTvW"
      },
      "source": [
        "!wget -cq https://s3.amazonaws.com/content.udacity-data.com/courses/nd188/flower_data.zip \\\r\n",
        "  && unzip -qq flower_data.zip"
      ],
      "execution_count": 4,
      "outputs": []
    },
    {
      "cell_type": "code",
      "metadata": {
        "id": "s2iJONWLpxnI"
      },
      "source": [
        "train_directory = '/content/flower_data/train'\r\n",
        "valid_directory = '/content/flower_data/valid'"
      ],
      "execution_count": 5,
      "outputs": []
    },
    {
      "cell_type": "code",
      "metadata": {
        "colab": {
          "base_uri": "https://localhost:8080/"
        },
        "id": "5bCVKxPeyXhC",
        "outputId": "9c7204e7-57a7-4f36-8a63-9b2d6aa5ebac"
      },
      "source": [
        "!find \"/content/flower_data/train/\" -type f -print | wc -l\r\n",
        "!find \"/content/flower_data/valid/\" -type f -print | wc -l"
      ],
      "execution_count": 6,
      "outputs": [
        {
          "output_type": "stream",
          "text": [
            "6552\n",
            "818\n"
          ],
          "name": "stdout"
        }
      ]
    },
    {
      "cell_type": "code",
      "metadata": {
        "id": "bSKfTeSfMPCf"
      },
      "source": [
        "class Data_Pipeline(Pipeline):\r\n",
        "    def __init__(self, batch_size, device, data_path, device_id=0, num_threads=4, seed=0):\r\n",
        "        super(Data_Pipeline, self).__init__(\r\n",
        "            batch_size, num_threads, device_id, seed)\r\n",
        "        self.device = device\r\n",
        "        self.reader = ops.FileReader(file_root =data_path, random_shuffle=True)\r\n",
        "        self.decode = ops.ImageDecoder(\r\n",
        "            device='mixed' if device == 'gpu' else 'cpu',\r\n",
        "            output_type=types.RGB)\r\n",
        "        self.cmn = ops.CropMirrorNormalize(\r\n",
        "            device=device,\r\n",
        "            dtype=types.FLOAT,\r\n",
        "            std=[255.],\r\n",
        "            output_layout=\"HWC\")\r\n",
        "        self.rotate = ops.Rotate(device = \"gpu\")\r\n",
        "        self.rng = ops.random.Uniform(range = (-10.0, 10.0))\r\n",
        "        self.coin = ops.random.CoinFlip(probability = 0.5)\r\n",
        "        self.flip = ops.Flip(device = \"gpu\")\r\n",
        "        self.res = ops.Resize(device=\"gpu\", resize_x=224, resize_y=224, interp_type=types.INTERP_TRIANGULAR)\r\n",
        "\r\n",
        "    def define_graph(self):\r\n",
        "        inputs, labels = self.reader(name=\"Reader\")\r\n",
        "        images = self.decode(inputs)\r\n",
        "        if self.device == 'gpu':\r\n",
        "            labels = labels.gpu()\r\n",
        "        images = self.cmn(images)\r\n",
        "        angle = self.rng()\r\n",
        "        images = self.rotate(images, angle=angle)\r\n",
        "        images = self.flip(images, horizontal = self.coin(), vertical = self.coin())\r\n",
        "        images = self.res(images)\r\n",
        "        return (images, labels)"
      ],
      "execution_count": 7,
      "outputs": []
    },
    {
      "cell_type": "code",
      "metadata": {
        "id": "pGckAFI2n-VX"
      },
      "source": [
        "BATCH_SIZE = 64\r\n",
        "DROPOUT = 0.2\r\n",
        "IMAGE_SIZE = 224\r\n",
        "NUM_CLASSES = 102\r\n",
        "HIDDEN_SIZE = 512\r\n",
        "EPOCHS = 20\r\n",
        "DATA_SIZE = 6552\r\n",
        "VALIDATION_SIZE = 6552\r\n",
        "ITERATIONS_PER_EPOCH = DATA_SIZE // BATCH_SIZE\r\n",
        "VALIDATION_STEPS = VALIDATION_SIZE // BATCH_SIZE\r\n",
        "\r\n",
        "shapes = (\r\n",
        "    (BATCH_SIZE, IMAGE_SIZE, IMAGE_SIZE, 3),\r\n",
        "    (BATCH_SIZE))\r\n",
        "dtypes = (\r\n",
        "    tf.float32,\r\n",
        "    tf.int32)"
      ],
      "execution_count": 8,
      "outputs": []
    },
    {
      "cell_type": "code",
      "metadata": {
        "id": "_3nD-C1uoHAL"
      },
      "source": [
        "Pipeline_train = Data_Pipeline(BATCH_SIZE, device='gpu', data_path = train_directory, device_id=0)\r\n",
        "Pipeline_valid = Data_Pipeline(BATCH_SIZE, device='gpu', data_path = valid_directory, device_id=0)"
      ],
      "execution_count": 9,
      "outputs": []
    },
    {
      "cell_type": "code",
      "metadata": {
        "colab": {
          "base_uri": "https://localhost:8080/"
        },
        "id": "KCvIy7tvoKXX",
        "outputId": "b87ae1e4-ee7e-451f-f8ac-9576df04d8d9"
      },
      "source": [
        "with tf.device('/gpu:0'):\r\n",
        "    data_set = dali_tf.DALIDataset(\r\n",
        "        pipeline=Pipeline_train,\r\n",
        "        batch_size=BATCH_SIZE,\r\n",
        "        output_shapes=shapes,\r\n",
        "        output_dtypes=dtypes,\r\n",
        "        device_id=0)\r\n",
        "    \r\n",
        "    valid_data_set = dali_tf.DALIDataset(\r\n",
        "        pipeline=Pipeline_valid,\r\n",
        "        batch_size=BATCH_SIZE,\r\n",
        "        output_shapes=shapes,\r\n",
        "        output_dtypes=dtypes,\r\n",
        "        device_id=0)\r\n",
        "    \r\n",
        "    resnet_model = ResNet50(weights = 'imagenet', include_top=False, input_shape = (224,224,3))\r\n",
        "\r\n",
        "    for layer in resnet_model.layers:\r\n",
        "        layer.trainable = False\r\n",
        "    \r\n",
        "    model = tf.keras.models.Sequential([\r\n",
        "                                    resnet_model,\r\n",
        "                                    tf.keras.layers.GlobalMaxPooling2D(),\r\n",
        "                                    tf.keras.layers.Dense(HIDDEN_SIZE, activation='relu'),\r\n",
        "                                    tf.keras.layers.Dropout(DROPOUT),\r\n",
        "                                    tf.keras.layers.Dense(NUM_CLASSES, activation=\"softmax\")\r\n",
        "    ])\r\n",
        "    model.compile(\r\n",
        "        optimizer='adam',\r\n",
        "        loss='sparse_categorical_crossentropy',\r\n",
        "        metrics=['accuracy'])"
      ],
      "execution_count": 10,
      "outputs": [
        {
          "output_type": "stream",
          "text": [
            "Downloading data from https://storage.googleapis.com/tensorflow/keras-applications/resnet/resnet50_weights_tf_dim_ordering_tf_kernels_notop.h5\n",
            "94773248/94765736 [==============================] - 1s 0us/step\n"
          ],
          "name": "stdout"
        }
      ]
    },
    {
      "cell_type": "code",
      "metadata": {
        "colab": {
          "base_uri": "https://localhost:8080/"
        },
        "id": "MqzHxWAlz1d6",
        "outputId": "3f82f169-7b3a-4265-acb2-9e4213e09fcf"
      },
      "source": [
        "model.summary()"
      ],
      "execution_count": 11,
      "outputs": [
        {
          "output_type": "stream",
          "text": [
            "Model: \"sequential\"\n",
            "_________________________________________________________________\n",
            "Layer (type)                 Output Shape              Param #   \n",
            "=================================================================\n",
            "resnet50 (Functional)        (None, 7, 7, 2048)        23587712  \n",
            "_________________________________________________________________\n",
            "global_max_pooling2d (Global (None, 2048)              0         \n",
            "_________________________________________________________________\n",
            "dense (Dense)                (None, 512)               1049088   \n",
            "_________________________________________________________________\n",
            "dropout (Dropout)            (None, 512)               0         \n",
            "_________________________________________________________________\n",
            "dense_1 (Dense)              (None, 102)               52326     \n",
            "=================================================================\n",
            "Total params: 24,689,126\n",
            "Trainable params: 1,101,414\n",
            "Non-trainable params: 23,587,712\n",
            "_________________________________________________________________\n"
          ],
          "name": "stdout"
        }
      ]
    },
    {
      "cell_type": "code",
      "metadata": {
        "colab": {
          "base_uri": "https://localhost:8080/"
        },
        "id": "UENk4BDkyEgI",
        "outputId": "6a93b6fb-81ec-4272-b142-6c2fef999333"
      },
      "source": [
        "with tf.device('/gpu:0'):\r\n",
        "    model.fit(data_set, epochs=EPOCHS, steps_per_epoch=ITERATIONS_PER_EPOCH,  validation_data = valid_data_set, validation_steps=VALIDATION_STEPS)"
      ],
      "execution_count": 12,
      "outputs": [
        {
          "output_type": "stream",
          "text": [
            "Epoch 1/20\n",
            "102/102 [==============================] - 47s 368ms/step - loss: 5.1011 - accuracy: 0.0248 - val_loss: 4.4589 - val_accuracy: 0.0499\n",
            "Epoch 2/20\n",
            "102/102 [==============================] - 37s 367ms/step - loss: 4.4489 - accuracy: 0.0433 - val_loss: 4.3603 - val_accuracy: 0.0591\n",
            "Epoch 3/20\n",
            "102/102 [==============================] - 38s 372ms/step - loss: 4.3481 - accuracy: 0.0540 - val_loss: 4.2836 - val_accuracy: 0.0654\n",
            "Epoch 4/20\n",
            "102/102 [==============================] - 38s 370ms/step - loss: 4.2929 - accuracy: 0.0590 - val_loss: 4.2334 - val_accuracy: 0.0666\n",
            "Epoch 5/20\n",
            "102/102 [==============================] - 38s 371ms/step - loss: 4.2368 - accuracy: 0.0656 - val_loss: 4.1801 - val_accuracy: 0.0833\n",
            "Epoch 6/20\n",
            "102/102 [==============================] - 38s 371ms/step - loss: 4.2006 - accuracy: 0.0747 - val_loss: 4.1472 - val_accuracy: 0.0787\n",
            "Epoch 7/20\n",
            "102/102 [==============================] - 38s 371ms/step - loss: 4.1620 - accuracy: 0.0702 - val_loss: 4.0813 - val_accuracy: 0.0887\n",
            "Epoch 8/20\n",
            "102/102 [==============================] - 38s 372ms/step - loss: 4.1010 - accuracy: 0.0806 - val_loss: 4.0278 - val_accuracy: 0.1005\n",
            "Epoch 9/20\n",
            "102/102 [==============================] - 38s 372ms/step - loss: 4.0715 - accuracy: 0.0922 - val_loss: 4.0172 - val_accuracy: 0.1019\n",
            "Epoch 10/20\n",
            "102/102 [==============================] - 38s 371ms/step - loss: 4.0461 - accuracy: 0.0848 - val_loss: 3.9471 - val_accuracy: 0.1029\n",
            "Epoch 11/20\n",
            "102/102 [==============================] - 38s 371ms/step - loss: 3.9986 - accuracy: 0.0833 - val_loss: 3.9397 - val_accuracy: 0.1091\n",
            "Epoch 12/20\n",
            "102/102 [==============================] - 38s 372ms/step - loss: 3.9657 - accuracy: 0.0937 - val_loss: 3.8947 - val_accuracy: 0.1123\n",
            "Epoch 13/20\n",
            "102/102 [==============================] - 38s 371ms/step - loss: 3.9180 - accuracy: 0.1018 - val_loss: 3.8699 - val_accuracy: 0.1204\n",
            "Epoch 14/20\n",
            "102/102 [==============================] - 38s 371ms/step - loss: 3.9356 - accuracy: 0.0914 - val_loss: 3.8461 - val_accuracy: 0.1250\n",
            "Epoch 15/20\n",
            "102/102 [==============================] - 38s 371ms/step - loss: 3.9062 - accuracy: 0.0968 - val_loss: 3.8025 - val_accuracy: 0.1301\n",
            "Epoch 16/20\n",
            "102/102 [==============================] - 38s 371ms/step - loss: 3.8526 - accuracy: 0.1058 - val_loss: 3.7788 - val_accuracy: 0.1305\n",
            "Epoch 17/20\n",
            "102/102 [==============================] - 38s 371ms/step - loss: 3.8515 - accuracy: 0.1069 - val_loss: 3.7755 - val_accuracy: 0.1264\n",
            "Epoch 18/20\n",
            "102/102 [==============================] - 38s 371ms/step - loss: 3.8102 - accuracy: 0.1142 - val_loss: 3.7261 - val_accuracy: 0.1327\n",
            "Epoch 19/20\n",
            "102/102 [==============================] - 38s 371ms/step - loss: 3.8167 - accuracy: 0.1172 - val_loss: 3.7010 - val_accuracy: 0.1411\n",
            "Epoch 20/20\n",
            "102/102 [==============================] - 38s 371ms/step - loss: 3.7723 - accuracy: 0.1160 - val_loss: 3.6701 - val_accuracy: 0.1457\n"
          ],
          "name": "stdout"
        }
      ]
    },
    {
      "cell_type": "code",
      "metadata": {
        "colab": {
          "base_uri": "https://localhost:8080/"
        },
        "id": "5nc3v_QLzuQu",
        "outputId": "8289a2e6-1f72-4725-e4b2-34bae96b5ef8"
      },
      "source": [
        "train_dataset = image_dataset_from_directory(train_directory,\r\n",
        "                                             shuffle=True,\r\n",
        "                                             batch_size=BATCH_SIZE,\r\n",
        "                                             image_size=(IMAGE_SIZE, IMAGE_SIZE))\r\n",
        "\r\n",
        "valid_dataset = image_dataset_from_directory(valid_directory,\r\n",
        "                                             shuffle=True,\r\n",
        "                                             batch_size=BATCH_SIZE,\r\n",
        "                                             image_size=(IMAGE_SIZE, IMAGE_SIZE))\r\n",
        "\r\n",
        "AUTOTUNE = tf.data.AUTOTUNE\r\n",
        "\r\n",
        "train_dataset = train_dataset.prefetch(buffer_size=AUTOTUNE)\r\n",
        "valid_dataset = valid_dataset.prefetch(buffer_size=AUTOTUNE)\r\n",
        "\r\n",
        "data_augmentation = tf.keras.Sequential([\r\n",
        "  tf.keras.layers.experimental.preprocessing.Normalization(mean=0., variance=255.),\r\n",
        "  tf.keras.layers.experimental.preprocessing.RandomRotation((-10.0, 10.0)),\r\n",
        "  tf.keras.layers.experimental.preprocessing.RandomFlip(),\r\n",
        "  tf.keras.layers.experimental.preprocessing.Resizing(IMAGE_SIZE, IMAGE_SIZE),\r\n",
        "])"
      ],
      "execution_count": 13,
      "outputs": [
        {
          "output_type": "stream",
          "text": [
            "Found 6552 files belonging to 102 classes.\n",
            "Found 818 files belonging to 102 classes.\n"
          ],
          "name": "stdout"
        }
      ]
    },
    {
      "cell_type": "code",
      "metadata": {
        "colab": {
          "base_uri": "https://localhost:8080/"
        },
        "id": "CHDEWR2O1HsY",
        "outputId": "edc1a501-cad0-4d2b-d130-92de11590803"
      },
      "source": [
        "with tf.device('/gpu:0'):\r\n",
        "    model.fit(train_dataset, epochs=EPOCHS, validation_data = valid_dataset)"
      ],
      "execution_count": 14,
      "outputs": [
        {
          "output_type": "stream",
          "text": [
            "Epoch 1/20\n",
            "103/103 [==============================] - 26s 230ms/step - loss: 7.4929 - accuracy: 0.0736 - val_loss: 3.4394 - val_accuracy: 0.1870\n",
            "Epoch 2/20\n",
            "103/103 [==============================] - 23s 215ms/step - loss: 3.4931 - accuracy: 0.1557 - val_loss: 2.9158 - val_accuracy: 0.2787\n",
            "Epoch 3/20\n",
            "103/103 [==============================] - 24s 217ms/step - loss: 3.0483 - accuracy: 0.2291 - val_loss: 2.5191 - val_accuracy: 0.3619\n",
            "Epoch 4/20\n",
            "103/103 [==============================] - 24s 218ms/step - loss: 2.6910 - accuracy: 0.2886 - val_loss: 2.1938 - val_accuracy: 0.4315\n",
            "Epoch 5/20\n",
            "103/103 [==============================] - 23s 217ms/step - loss: 2.4811 - accuracy: 0.3275 - val_loss: 2.0609 - val_accuracy: 0.4523\n",
            "Epoch 6/20\n",
            "103/103 [==============================] - 23s 217ms/step - loss: 2.3227 - accuracy: 0.3643 - val_loss: 1.8694 - val_accuracy: 0.4817\n",
            "Epoch 7/20\n",
            "103/103 [==============================] - 23s 216ms/step - loss: 2.2163 - accuracy: 0.3916 - val_loss: 1.7704 - val_accuracy: 0.5134\n",
            "Epoch 8/20\n",
            "103/103 [==============================] - 23s 216ms/step - loss: 2.1399 - accuracy: 0.4077 - val_loss: 1.7336 - val_accuracy: 0.5513\n",
            "Epoch 9/20\n",
            "103/103 [==============================] - 23s 215ms/step - loss: 2.0517 - accuracy: 0.4203 - val_loss: 1.7129 - val_accuracy: 0.5489\n",
            "Epoch 10/20\n",
            "103/103 [==============================] - 23s 216ms/step - loss: 1.9970 - accuracy: 0.4458 - val_loss: 1.5919 - val_accuracy: 0.5758\n",
            "Epoch 11/20\n",
            "103/103 [==============================] - 23s 215ms/step - loss: 1.9553 - accuracy: 0.4444 - val_loss: 1.5918 - val_accuracy: 0.5733\n",
            "Epoch 12/20\n",
            "103/103 [==============================] - 23s 216ms/step - loss: 1.9049 - accuracy: 0.4577 - val_loss: 1.6030 - val_accuracy: 0.5795\n",
            "Epoch 13/20\n",
            "103/103 [==============================] - 23s 216ms/step - loss: 1.8651 - accuracy: 0.4742 - val_loss: 1.5092 - val_accuracy: 0.6076\n",
            "Epoch 14/20\n",
            "103/103 [==============================] - 23s 215ms/step - loss: 1.8331 - accuracy: 0.4734 - val_loss: 1.5307 - val_accuracy: 0.5917\n",
            "Epoch 15/20\n",
            "103/103 [==============================] - 23s 215ms/step - loss: 1.7770 - accuracy: 0.4887 - val_loss: 1.5020 - val_accuracy: 0.5905\n",
            "Epoch 16/20\n",
            "103/103 [==============================] - 23s 215ms/step - loss: 1.7292 - accuracy: 0.4960 - val_loss: 1.4949 - val_accuracy: 0.6088\n",
            "Epoch 17/20\n",
            "103/103 [==============================] - 23s 217ms/step - loss: 1.7075 - accuracy: 0.5038 - val_loss: 1.4579 - val_accuracy: 0.6088\n",
            "Epoch 18/20\n",
            "103/103 [==============================] - 23s 216ms/step - loss: 1.7215 - accuracy: 0.5037 - val_loss: 1.4690 - val_accuracy: 0.6271\n",
            "Epoch 19/20\n",
            "103/103 [==============================] - 23s 215ms/step - loss: 1.6614 - accuracy: 0.5110 - val_loss: 1.5139 - val_accuracy: 0.5990\n",
            "Epoch 20/20\n",
            "103/103 [==============================] - 23s 215ms/step - loss: 1.6610 - accuracy: 0.5192 - val_loss: 1.4759 - val_accuracy: 0.6064\n"
          ],
          "name": "stdout"
        }
      ]
    }
  ]
}