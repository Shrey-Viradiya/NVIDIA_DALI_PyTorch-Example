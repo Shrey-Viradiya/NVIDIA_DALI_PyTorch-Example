{
  "nbformat": 4,
  "nbformat_minor": 0,
  "metadata": {
    "colab": {
      "name": "NVIDIA_DALI_keras.ipynb",
      "provenance": [],
      "collapsed_sections": [],
      "include_colab_link": true
    },
    "kernelspec": {
      "name": "python3",
      "display_name": "Python 3"
    },
    "accelerator": "GPU"
  },
  "cells": [
    {
      "cell_type": "markdown",
      "metadata": {
        "id": "view-in-github",
        "colab_type": "text"
      },
      "source": [
        "<a href=\"https://colab.research.google.com/github/Shrey-Viradiya/NVIDIA_DALI_PyTorch_keras_tensorflow-Example/blob/main/NVIDIA_DALI_keras.ipynb\" target=\"_parent\"><img src=\"https://colab.research.google.com/assets/colab-badge.svg\" alt=\"Open In Colab\"/></a>"
      ]
    },
    {
      "cell_type": "code",
      "metadata": {
        "colab": {
          "base_uri": "https://localhost:8080/"
        },
        "id": "rqzBEQFTM8W7",
        "outputId": "2b233045-722e-4192-c75f-4f381266199e"
      },
      "source": [
        "!nvidia-smi"
      ],
      "execution_count": 1,
      "outputs": [
        {
          "output_type": "stream",
          "text": [
            "Sun Feb 28 07:42:06 2021       \n",
            "+-----------------------------------------------------------------------------+\n",
            "| NVIDIA-SMI 460.39       Driver Version: 460.32.03    CUDA Version: 11.2     |\n",
            "|-------------------------------+----------------------+----------------------+\n",
            "| GPU  Name        Persistence-M| Bus-Id        Disp.A | Volatile Uncorr. ECC |\n",
            "| Fan  Temp  Perf  Pwr:Usage/Cap|         Memory-Usage | GPU-Util  Compute M. |\n",
            "|                               |                      |               MIG M. |\n",
            "|===============================+======================+======================|\n",
            "|   0  Tesla T4            Off  | 00000000:00:04.0 Off |                    0 |\n",
            "| N/A   62C    P8    11W /  70W |      0MiB / 15109MiB |      0%      Default |\n",
            "|                               |                      |                  N/A |\n",
            "+-------------------------------+----------------------+----------------------+\n",
            "                                                                               \n",
            "+-----------------------------------------------------------------------------+\n",
            "| Processes:                                                                  |\n",
            "|  GPU   GI   CI        PID   Type   Process name                  GPU Memory |\n",
            "|        ID   ID                                                   Usage      |\n",
            "|=============================================================================|\n",
            "|  No running processes found                                                 |\n",
            "+-----------------------------------------------------------------------------+\n"
          ],
          "name": "stdout"
        }
      ]
    },
    {
      "cell_type": "code",
      "metadata": {
        "colab": {
          "base_uri": "https://localhost:8080/"
        },
        "id": "ubGsbBSCT8IE",
        "outputId": "b3ceb822-4f31-4d31-e7e2-aa32bdefdb67"
      },
      "source": [
        "!pip install --extra-index-url https://developer.download.nvidia.com/compute/redist nvidia-dali-cuda100\r\n",
        "!pip install --extra-index-url https://developer.download.nvidia.com/compute/redist nvidia-dali-tf-plugin-cuda100"
      ],
      "execution_count": 2,
      "outputs": [
        {
          "output_type": "stream",
          "text": [
            "Looking in indexes: https://pypi.org/simple, https://developer.download.nvidia.com/compute/redist\n",
            "Collecting nvidia-dali-cuda100\n",
            "\u001b[?25l  Downloading https://developer.download.nvidia.com/compute/redist/nvidia-dali-cuda100/nvidia_dali_cuda100-0.31.0-2055431-py3-none-manylinux2014_x86_64.whl (389.8MB)\n",
            "\u001b[K     |████████████████████████████████| 389.9MB 45kB/s \n",
            "\u001b[?25hInstalling collected packages: nvidia-dali-cuda100\n",
            "Successfully installed nvidia-dali-cuda100-0.31.0\n",
            "Looking in indexes: https://pypi.org/simple, https://developer.download.nvidia.com/compute/redist\n",
            "Collecting nvidia-dali-tf-plugin-cuda100\n",
            "\u001b[?25l  Downloading https://developer.download.nvidia.com/compute/redist/nvidia-dali-tf-plugin-cuda100/nvidia-dali-tf-plugin-cuda100-0.31.0.tar.gz (310kB)\n",
            "\u001b[K     |████████████████████████████████| 317kB 6.7MB/s \n",
            "\u001b[?25hRequirement already satisfied: nvidia-dali-cuda100==0.31.0 in /usr/local/lib/python3.7/dist-packages (from nvidia-dali-tf-plugin-cuda100) (0.31.0)\n",
            "Building wheels for collected packages: nvidia-dali-tf-plugin-cuda100\n",
            "  Building wheel for nvidia-dali-tf-plugin-cuda100 (setup.py) ... \u001b[?25l\u001b[?25hdone\n",
            "  Created wheel for nvidia-dali-tf-plugin-cuda100: filename=nvidia_dali_tf_plugin_cuda100-0.31.0-cp37-cp37m-linux_x86_64.whl size=99368 sha256=3ac20aad86d58321cc545643afe7094adc7be05abf5f4ef68eddacf84503498c\n",
            "  Stored in directory: /root/.cache/pip/wheels/1a/ed/d9/b7adce71d3ed71de92958a4b1a30a7bfe5cd2003e21be04214\n",
            "Successfully built nvidia-dali-tf-plugin-cuda100\n",
            "Installing collected packages: nvidia-dali-tf-plugin-cuda100\n",
            "Successfully installed nvidia-dali-tf-plugin-cuda100-0.31.0\n"
          ],
          "name": "stdout"
        }
      ]
    },
    {
      "cell_type": "code",
      "metadata": {
        "id": "88sJENyNs6_x"
      },
      "source": [
        "import tensorflow as tf\r\n",
        "from tensorflow.keras.datasets import cifar10\r\n",
        "from tensorflow.keras.applications.resnet50 import ResNet50, preprocess_input\r\n",
        "from tensorflow.keras.preprocessing import image_dataset_from_directory\r\n",
        "\r\n",
        "import os\r\n",
        "import scipy as sp\r\n",
        "import matplotlib.pyplot as plt\r\n",
        "import sklearn.metrics\r\n",
        "\r\n",
        "from nvidia.dali.pipeline import Pipeline\r\n",
        "import nvidia.dali.ops as ops\r\n",
        "import nvidia.dali.types as types\r\n",
        "\r\n",
        "import nvidia.dali.plugin.tf as dali_tf\r\n",
        "import tensorflow as tf\r\n",
        "import tensorflow.compat.v1 as tf_v1\r\n",
        "import logging"
      ],
      "execution_count": 3,
      "outputs": []
    },
    {
      "cell_type": "code",
      "metadata": {
        "id": "BgWRy3_BxTvW"
      },
      "source": [
        "!wget -cq https://s3.amazonaws.com/content.udacity-data.com/courses/nd188/flower_data.zip \\\r\n",
        "  && unzip -qq flower_data.zip"
      ],
      "execution_count": 4,
      "outputs": []
    },
    {
      "cell_type": "code",
      "metadata": {
        "id": "s2iJONWLpxnI"
      },
      "source": [
        "train_directory = '/content/flower_data/train'\r\n",
        "valid_directory = '/content/flower_data/valid'"
      ],
      "execution_count": 5,
      "outputs": []
    },
    {
      "cell_type": "code",
      "metadata": {
        "colab": {
          "base_uri": "https://localhost:8080/"
        },
        "id": "5bCVKxPeyXhC",
        "outputId": "78a1b75b-0fb3-45be-f733-3eb878836eca"
      },
      "source": [
        "!find \"/content/flower_data/train/\" -type f -print | wc -l\r\n",
        "!find \"/content/flower_data/valid/\" -type f -print | wc -l"
      ],
      "execution_count": 6,
      "outputs": [
        {
          "output_type": "stream",
          "text": [
            "6552\n",
            "818\n"
          ],
          "name": "stdout"
        }
      ]
    },
    {
      "cell_type": "code",
      "metadata": {
        "id": "bSKfTeSfMPCf"
      },
      "source": [
        "class Data_Pipeline(Pipeline):\r\n",
        "    def __init__(self, batch_size, device, data_path, device_id=0, num_threads=4, seed=0):\r\n",
        "        super(Data_Pipeline, self).__init__(\r\n",
        "            batch_size, num_threads, device_id, seed)\r\n",
        "        self.device = device\r\n",
        "        self.reader = ops.FileReader(file_root =data_path, random_shuffle=True)\r\n",
        "        self.decode = ops.ImageDecoder(\r\n",
        "            device='mixed' if device == 'gpu' else 'cpu',\r\n",
        "            output_type=types.RGB)\r\n",
        "        self.cmn = ops.CropMirrorNormalize(\r\n",
        "            device=device,\r\n",
        "            dtype=types.FLOAT,\r\n",
        "            std=[15.9687],\r\n",
        "            output_layout=\"HWC\")\r\n",
        "        self.rotate = ops.Rotate(device = \"gpu\")\r\n",
        "        self.rng = ops.random.Uniform(range = (-10.0, 10.0))\r\n",
        "        self.coin = ops.random.CoinFlip(probability = 0.5)\r\n",
        "        self.flip = ops.Flip(device = \"gpu\")\r\n",
        "        self.res = ops.Resize(device=\"gpu\", resize_x=224, resize_y=224, interp_type=types.INTERP_TRIANGULAR)\r\n",
        "\r\n",
        "    def define_graph(self):\r\n",
        "        inputs, labels = self.reader(name=\"Reader\")\r\n",
        "        images = self.decode(inputs)\r\n",
        "        if self.device == 'gpu':\r\n",
        "            labels = labels.gpu()\r\n",
        "        images = self.cmn(images)\r\n",
        "        angle = self.rng()\r\n",
        "        images = self.rotate(images, angle=angle)\r\n",
        "        images = self.flip(images, horizontal = self.coin(), vertical = self.coin())\r\n",
        "        images = self.res(images)\r\n",
        "        return (images, labels)"
      ],
      "execution_count": 7,
      "outputs": []
    },
    {
      "cell_type": "code",
      "metadata": {
        "id": "pGckAFI2n-VX"
      },
      "source": [
        "BATCH_SIZE = 64\r\n",
        "DROPOUT = 0.2\r\n",
        "IMAGE_SIZE = 224\r\n",
        "NUM_CLASSES = 102\r\n",
        "HIDDEN_SIZE = 512\r\n",
        "EPOCHS = 20\r\n",
        "DATA_SIZE = 6552\r\n",
        "VALIDATION_SIZE = 818\r\n",
        "ITERATIONS_PER_EPOCH = DATA_SIZE // BATCH_SIZE\r\n",
        "VALIDATION_STEPS = VALIDATION_SIZE // BATCH_SIZE\r\n",
        "\r\n",
        "shapes = (\r\n",
        "    (BATCH_SIZE, IMAGE_SIZE, IMAGE_SIZE, 3),\r\n",
        "    (BATCH_SIZE))\r\n",
        "dtypes = (\r\n",
        "    tf.float32,\r\n",
        "    tf.int32)"
      ],
      "execution_count": 8,
      "outputs": []
    },
    {
      "cell_type": "code",
      "metadata": {
        "id": "_3nD-C1uoHAL"
      },
      "source": [
        "Pipeline_train = Data_Pipeline(BATCH_SIZE, device='gpu', data_path = train_directory, device_id=0)\r\n",
        "Pipeline_valid = Data_Pipeline(BATCH_SIZE, device='gpu', data_path = valid_directory, device_id=0)"
      ],
      "execution_count": 9,
      "outputs": []
    },
    {
      "cell_type": "code",
      "metadata": {
        "colab": {
          "base_uri": "https://localhost:8080/"
        },
        "id": "KCvIy7tvoKXX",
        "outputId": "a3e03912-cd99-4e87-a7f4-86ae1b0706a2"
      },
      "source": [
        "with tf.device('/gpu:0'):\r\n",
        "    data_set = dali_tf.DALIDataset(\r\n",
        "        pipeline=Pipeline_train,\r\n",
        "        batch_size=BATCH_SIZE,\r\n",
        "        output_shapes=shapes,\r\n",
        "        output_dtypes=dtypes,\r\n",
        "        device_id=0)\r\n",
        "    \r\n",
        "    valid_data_set = dali_tf.DALIDataset(\r\n",
        "        pipeline=Pipeline_valid,\r\n",
        "        batch_size=BATCH_SIZE,\r\n",
        "        output_shapes=shapes,\r\n",
        "        output_dtypes=dtypes,\r\n",
        "        device_id=0)\r\n",
        "    \r\n",
        "    resnet_model = ResNet50(weights = 'imagenet', include_top=False, input_shape = (224,224,3))\r\n",
        "\r\n",
        "    for layer in resnet_model.layers:\r\n",
        "        layer.trainable = False\r\n",
        "    \r\n",
        "    model = tf.keras.models.Sequential([\r\n",
        "                                    resnet_model,\r\n",
        "                                    tf.keras.layers.GlobalMaxPooling2D(),\r\n",
        "                                    tf.keras.layers.Dense(HIDDEN_SIZE, activation='relu'),\r\n",
        "                                    tf.keras.layers.Dropout(DROPOUT),\r\n",
        "                                    tf.keras.layers.Dense(NUM_CLASSES, activation=\"softmax\")\r\n",
        "    ])\r\n",
        "    model.compile(\r\n",
        "        optimizer='adam',\r\n",
        "        loss='sparse_categorical_crossentropy',\r\n",
        "        metrics=['accuracy'])"
      ],
      "execution_count": 10,
      "outputs": [
        {
          "output_type": "stream",
          "text": [
            "Downloading data from https://storage.googleapis.com/tensorflow/keras-applications/resnet/resnet50_weights_tf_dim_ordering_tf_kernels_notop.h5\n",
            "94773248/94765736 [==============================] - 1s 0us/step\n"
          ],
          "name": "stdout"
        }
      ]
    },
    {
      "cell_type": "code",
      "metadata": {
        "colab": {
          "base_uri": "https://localhost:8080/"
        },
        "id": "MqzHxWAlz1d6",
        "outputId": "8a1ca430-83d3-4a4b-d23e-a2c109e02a83"
      },
      "source": [
        "model.summary()"
      ],
      "execution_count": 11,
      "outputs": [
        {
          "output_type": "stream",
          "text": [
            "Model: \"sequential\"\n",
            "_________________________________________________________________\n",
            "Layer (type)                 Output Shape              Param #   \n",
            "=================================================================\n",
            "resnet50 (Functional)        (None, 7, 7, 2048)        23587712  \n",
            "_________________________________________________________________\n",
            "global_max_pooling2d (Global (None, 2048)              0         \n",
            "_________________________________________________________________\n",
            "dense (Dense)                (None, 512)               1049088   \n",
            "_________________________________________________________________\n",
            "dropout (Dropout)            (None, 512)               0         \n",
            "_________________________________________________________________\n",
            "dense_1 (Dense)              (None, 102)               52326     \n",
            "=================================================================\n",
            "Total params: 24,689,126\n",
            "Trainable params: 1,101,414\n",
            "Non-trainable params: 23,587,712\n",
            "_________________________________________________________________\n"
          ],
          "name": "stdout"
        }
      ]
    },
    {
      "cell_type": "code",
      "metadata": {
        "colab": {
          "base_uri": "https://localhost:8080/"
        },
        "id": "UENk4BDkyEgI",
        "outputId": "5b084caf-0278-4d01-c223-c3f9ec727756"
      },
      "source": [
        "with tf.device('/gpu:0'):\r\n",
        "    model.fit(data_set, epochs=EPOCHS, steps_per_epoch=ITERATIONS_PER_EPOCH,  validation_data = valid_data_set, validation_steps=VALIDATION_STEPS)"
      ],
      "execution_count": 12,
      "outputs": [
        {
          "output_type": "stream",
          "text": [
            "Epoch 1/20\n",
            "102/102 [==============================] - 32s 219ms/step - loss: 6.5001 - accuracy: 0.1122 - val_loss: 2.6523 - val_accuracy: 0.3581\n",
            "Epoch 2/20\n",
            "102/102 [==============================] - 22s 218ms/step - loss: 2.5321 - accuracy: 0.3823 - val_loss: 1.7922 - val_accuracy: 0.5352\n",
            "Epoch 3/20\n",
            "102/102 [==============================] - 23s 225ms/step - loss: 1.8582 - accuracy: 0.4999 - val_loss: 1.4888 - val_accuracy: 0.5924\n",
            "Epoch 4/20\n",
            "102/102 [==============================] - 24s 239ms/step - loss: 1.5334 - accuracy: 0.5803 - val_loss: 1.3447 - val_accuracy: 0.6432\n",
            "Epoch 5/20\n",
            "102/102 [==============================] - 25s 246ms/step - loss: 1.3176 - accuracy: 0.6307 - val_loss: 1.2437 - val_accuracy: 0.6602\n",
            "Epoch 6/20\n",
            "102/102 [==============================] - 24s 237ms/step - loss: 1.2030 - accuracy: 0.6611 - val_loss: 1.3125 - val_accuracy: 0.6341\n",
            "Epoch 7/20\n",
            "102/102 [==============================] - 24s 238ms/step - loss: 1.0916 - accuracy: 0.6895 - val_loss: 1.1611 - val_accuracy: 0.6719\n",
            "Epoch 8/20\n",
            "102/102 [==============================] - 25s 242ms/step - loss: 0.9882 - accuracy: 0.7072 - val_loss: 1.1731 - val_accuracy: 0.6758\n",
            "Epoch 9/20\n",
            "102/102 [==============================] - 24s 240ms/step - loss: 0.9631 - accuracy: 0.7120 - val_loss: 1.0722 - val_accuracy: 0.6953\n",
            "Epoch 10/20\n",
            "102/102 [==============================] - 24s 239ms/step - loss: 0.8765 - accuracy: 0.7417 - val_loss: 1.0977 - val_accuracy: 0.6992\n",
            "Epoch 11/20\n",
            "102/102 [==============================] - 24s 240ms/step - loss: 0.8788 - accuracy: 0.7387 - val_loss: 1.0334 - val_accuracy: 0.7135\n",
            "Epoch 12/20\n",
            "102/102 [==============================] - 24s 241ms/step - loss: 0.7888 - accuracy: 0.7687 - val_loss: 1.0519 - val_accuracy: 0.7161\n",
            "Epoch 13/20\n",
            "102/102 [==============================] - 25s 241ms/step - loss: 0.7686 - accuracy: 0.7683 - val_loss: 1.0153 - val_accuracy: 0.7266\n",
            "Epoch 14/20\n",
            "102/102 [==============================] - 25s 241ms/step - loss: 0.7625 - accuracy: 0.7634 - val_loss: 0.9342 - val_accuracy: 0.7409\n",
            "Epoch 15/20\n",
            "102/102 [==============================] - 24s 239ms/step - loss: 0.7069 - accuracy: 0.7911 - val_loss: 1.0846 - val_accuracy: 0.7096\n",
            "Epoch 16/20\n",
            "102/102 [==============================] - 24s 239ms/step - loss: 0.6709 - accuracy: 0.7927 - val_loss: 0.9265 - val_accuracy: 0.7630\n",
            "Epoch 17/20\n",
            "102/102 [==============================] - 25s 241ms/step - loss: 0.6618 - accuracy: 0.8013 - val_loss: 0.9844 - val_accuracy: 0.7448\n",
            "Epoch 18/20\n",
            "102/102 [==============================] - 25s 242ms/step - loss: 0.6366 - accuracy: 0.8054 - val_loss: 0.9296 - val_accuracy: 0.7500\n",
            "Epoch 19/20\n",
            "102/102 [==============================] - 25s 241ms/step - loss: 0.6099 - accuracy: 0.8094 - val_loss: 0.9046 - val_accuracy: 0.7630\n",
            "Epoch 20/20\n",
            "102/102 [==============================] - 24s 240ms/step - loss: 0.5814 - accuracy: 0.8139 - val_loss: 0.9399 - val_accuracy: 0.7630\n"
          ],
          "name": "stdout"
        }
      ]
    },
    {
      "cell_type": "code",
      "metadata": {
        "colab": {
          "base_uri": "https://localhost:8080/"
        },
        "id": "5nc3v_QLzuQu",
        "outputId": "b2e0f197-5a66-4faf-a02f-5c2fdc0f1cdc"
      },
      "source": [
        "train_dataset = image_dataset_from_directory(train_directory,\r\n",
        "                                             shuffle=True,\r\n",
        "                                             batch_size=BATCH_SIZE,\r\n",
        "                                             image_size=(IMAGE_SIZE, IMAGE_SIZE))\r\n",
        "\r\n",
        "valid_dataset = image_dataset_from_directory(valid_directory,\r\n",
        "                                             shuffle=True,\r\n",
        "                                             batch_size=BATCH_SIZE,\r\n",
        "                                             image_size=(IMAGE_SIZE, IMAGE_SIZE))\r\n",
        "\r\n",
        "AUTOTUNE = tf.data.AUTOTUNE\r\n",
        "\r\n",
        "train_dataset = train_dataset.prefetch(buffer_size=AUTOTUNE)\r\n",
        "valid_dataset = valid_dataset.prefetch(buffer_size=AUTOTUNE)\r\n",
        "\r\n",
        "data_augmentation = tf.keras.Sequential([\r\n",
        "  tf.keras.layers.experimental.preprocessing.Normalization(mean=0., variance=255.),\r\n",
        "  tf.keras.layers.experimental.preprocessing.RandomRotation((-10.0, 10.0)),\r\n",
        "  tf.keras.layers.experimental.preprocessing.RandomFlip(),\r\n",
        "  tf.keras.layers.experimental.preprocessing.Resizing(IMAGE_SIZE, IMAGE_SIZE),\r\n",
        "])"
      ],
      "execution_count": 13,
      "outputs": [
        {
          "output_type": "stream",
          "text": [
            "Found 6552 files belonging to 102 classes.\n",
            "Found 818 files belonging to 102 classes.\n"
          ],
          "name": "stdout"
        }
      ]
    },
    {
      "cell_type": "code",
      "metadata": {
        "colab": {
          "base_uri": "https://localhost:8080/"
        },
        "id": "CHDEWR2O1HsY",
        "outputId": "382afc39-8142-4e35-d330-9eb211dd375c"
      },
      "source": [
        "with tf.device('/gpu:0'):\r\n",
        "    model.fit(train_dataset, epochs=EPOCHS, validation_data = valid_dataset)"
      ],
      "execution_count": 14,
      "outputs": [
        {
          "output_type": "stream",
          "text": [
            "Epoch 1/20\n",
            "103/103 [==============================] - 28s 249ms/step - loss: 7.9937 - accuracy: 0.0743 - val_loss: 3.6237 - val_accuracy: 0.1589\n",
            "Epoch 2/20\n",
            "103/103 [==============================] - 25s 233ms/step - loss: 3.5865 - accuracy: 0.1477 - val_loss: 3.3443 - val_accuracy: 0.1870\n",
            "Epoch 3/20\n",
            "103/103 [==============================] - 25s 232ms/step - loss: 3.2029 - accuracy: 0.2033 - val_loss: 2.8015 - val_accuracy: 0.2824\n",
            "Epoch 4/20\n",
            "103/103 [==============================] - 25s 234ms/step - loss: 2.9344 - accuracy: 0.2398 - val_loss: 2.4872 - val_accuracy: 0.3447\n",
            "Epoch 5/20\n",
            "103/103 [==============================] - 25s 233ms/step - loss: 2.7212 - accuracy: 0.2807 - val_loss: 2.2314 - val_accuracy: 0.4303\n",
            "Epoch 6/20\n",
            "103/103 [==============================] - 25s 233ms/step - loss: 2.5990 - accuracy: 0.3095 - val_loss: 2.0558 - val_accuracy: 0.4487\n",
            "Epoch 7/20\n",
            "103/103 [==============================] - 25s 232ms/step - loss: 2.4819 - accuracy: 0.3385 - val_loss: 1.9278 - val_accuracy: 0.4658\n",
            "Epoch 8/20\n",
            "103/103 [==============================] - 25s 232ms/step - loss: 2.3908 - accuracy: 0.3545 - val_loss: 1.8937 - val_accuracy: 0.5086\n",
            "Epoch 9/20\n",
            "103/103 [==============================] - 25s 232ms/step - loss: 2.3236 - accuracy: 0.3660 - val_loss: 1.8477 - val_accuracy: 0.5049\n",
            "Epoch 10/20\n",
            "103/103 [==============================] - 25s 233ms/step - loss: 2.2605 - accuracy: 0.3782 - val_loss: 1.7826 - val_accuracy: 0.5428\n",
            "Epoch 11/20\n",
            "103/103 [==============================] - 25s 233ms/step - loss: 2.1580 - accuracy: 0.3977 - val_loss: 1.6939 - val_accuracy: 0.5342\n",
            "Epoch 12/20\n",
            "103/103 [==============================] - 25s 233ms/step - loss: 2.1102 - accuracy: 0.4093 - val_loss: 1.6994 - val_accuracy: 0.5465\n",
            "Epoch 13/20\n",
            "103/103 [==============================] - 25s 234ms/step - loss: 2.0960 - accuracy: 0.4101 - val_loss: 1.6987 - val_accuracy: 0.5391\n",
            "Epoch 14/20\n",
            "103/103 [==============================] - 25s 232ms/step - loss: 2.0695 - accuracy: 0.4138 - val_loss: 1.6801 - val_accuracy: 0.5513\n",
            "Epoch 15/20\n",
            "103/103 [==============================] - 25s 232ms/step - loss: 2.0223 - accuracy: 0.4274 - val_loss: 1.7279 - val_accuracy: 0.5452\n",
            "Epoch 16/20\n",
            "103/103 [==============================] - 25s 233ms/step - loss: 2.0321 - accuracy: 0.4225 - val_loss: 1.6904 - val_accuracy: 0.5513\n",
            "Epoch 17/20\n",
            "103/103 [==============================] - 25s 233ms/step - loss: 1.9517 - accuracy: 0.4397 - val_loss: 1.6860 - val_accuracy: 0.5379\n",
            "Epoch 18/20\n",
            "103/103 [==============================] - 25s 233ms/step - loss: 1.9574 - accuracy: 0.4391 - val_loss: 1.6568 - val_accuracy: 0.5575\n",
            "Epoch 19/20\n",
            "103/103 [==============================] - 25s 232ms/step - loss: 1.9182 - accuracy: 0.4538 - val_loss: 1.6285 - val_accuracy: 0.5611\n",
            "Epoch 20/20\n",
            "103/103 [==============================] - 25s 233ms/step - loss: 1.9280 - accuracy: 0.4480 - val_loss: 1.6789 - val_accuracy: 0.5293\n"
          ],
          "name": "stdout"
        }
      ]
    },
    {
      "cell_type": "code",
      "metadata": {
        "id": "GYRnPDGZh7O4"
      },
      "source": [
        ""
      ],
      "execution_count": null,
      "outputs": []
    }
  ]
}